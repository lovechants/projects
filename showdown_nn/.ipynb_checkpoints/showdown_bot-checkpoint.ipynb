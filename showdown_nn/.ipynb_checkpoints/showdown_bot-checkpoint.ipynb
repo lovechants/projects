{
 "cells": [
  {
   "cell_type": "code",
   "execution_count": 1,
   "id": "91d9bc70",
   "metadata": {},
   "outputs": [
    {
     "name": "stdout",
     "output_type": "stream",
     "text": [
      "{'id': 'gen9ou-2031706183', 'format': '[Gen 9] OU', 'players': ['elpets', 'BBUTTER'], 'log': \"|j|☆elpets\\n|j|☆BBUTTER\\n|t:|1704902320\\n|gametype|singles\\n|player|p1|elpets|infielder|1967\\n|player|p2|BBUTTER|blue|2032\\n|teamsize|p1|6\\n|teamsize|p2|6\\n|gen|9\\n|tier|[Gen 9] OU\\n|rated|\\n|rule|Sleep Clause Mod: Limit one foe put to sleep\\n|rule|Species Clause: Limit one of each Pokémon\\n|rule|OHKO Clause: OHKO moves are banned\\n|rule|Evasion Items Clause: Evasion items are banned\\n|rule|Evasion Moves Clause: Evasion moves are banned\\n|rule|Endless Battle Clause: Forcing endless battles is banned\\n|rule|HP Percentage Mod: HP is shown in percentages\\n|clearpoke\\n|poke|p1|Hatterene, F|\\n|poke|p1|Azumarill, F|\\n|poke|p1|Breloom, F|\\n|poke|p1|Dragonite, M|\\n|poke|p1|Great Tusk|\\n|poke|p1|Skeledirge, M|\\n|poke|p2|Gholdengo|\\n|poke|p2|Dragonite, M|\\n|poke|p2|Raging Bolt|\\n|poke|p2|Iron Boulder|\\n|poke|p2|Great Tusk|\\n|poke|p2|Ting-Lu|\\n|teampreview\\n|\\n|t:|1704902333\\n|start\\n|switch|p1a: Azumarill|Azumarill, F|100/100\\n|switch|p2a: Gholdengo|Gholdengo|100/100\\n|turn|1\\n|\\n|t:|1704902337\\n|move|p2a: Gholdengo|Thunderbolt|p1a: Azumarill\\n|-supereffective|p1a: Azumarill\\n|-damage|p1a: Azumarill|35/100\\n|move|p1a: Azumarill|Liquidation|p2a: Gholdengo\\n|-damage|p2a: Gholdengo|34/100\\n|\\n|upkeep\\n|turn|2\\n|\\n|t:|1704902343\\n|switch|p2a: Great Tusk|Great Tusk|100/100\\n|move|p1a: Azumarill|Liquidation|p2a: Great Tusk\\n|-supereffective|p2a: Great Tusk\\n|-damage|p2a: Great Tusk|35/100\\n|-unboost|p2a: Great Tusk|def|1\\n|\\n|upkeep\\n|turn|3\\n|\\n|t:|1704902345\\n|move|p1a: Azumarill|Aqua Jet|p2a: Great Tusk\\n|-supereffective|p2a: Great Tusk\\n|-damage|p2a: Great Tusk|0 fnt\\n|faint|p2a: Great Tusk\\n|-end|p2a: Great Tusk|Protosynthesis|[silent]\\n|\\n|upkeep\\n|j| Ryan&Ditto\\n|\\n|t:|1704902351\\n|switch|p2a: Raging Bolt|Raging Bolt|100/100\\n|turn|4\\n|\\n|t:|1704902353\\n|switch|p1a: Great Tusk|Great Tusk|100/100\\n|move|p2a: Raging Bolt|Volt Switch|p1a: Great Tusk\\n|-immune|p1a: Great Tusk\\n|\\n|upkeep\\n|turn|5\\n|\\n|t:|1704902356\\n|-end|p2a: Raging Bolt|Protosynthesis|[silent]\\n|switch|p2a: Ting-Lu|Ting-Lu|100/100\\n|-ability|p2a: Ting-Lu|Vessel of Ruin\\n|move|p1a: Great Tusk|Earthquake|p2a: Ting-Lu\\n|-damage|p2a: Ting-Lu|78/100\\n|\\n|-heal|p2a: Ting-Lu|84/100|[from] item: Leftovers\\n|upkeep\\n|turn|6\\n|\\n|t:|1704902357\\n|move|p1a: Great Tusk|Body Press|p2a: Ting-Lu\\n|-supereffective|p2a: Ting-Lu\\n|-damage|p2a: Ting-Lu|36/100\\n|move|p2a: Ting-Lu|Ruination|p1a: Great Tusk\\n|-damage|p1a: Great Tusk|50/100\\n|\\n|-heal|p2a: Ting-Lu|42/100|[from] item: Leftovers\\n|upkeep\\n|turn|7\\n|\\n|t:|1704902365\\n|move|p1a: Great Tusk|Body Press|p2a: Ting-Lu\\n|-supereffective|p2a: Ting-Lu\\n|-crit|p2a: Ting-Lu\\n|-damage|p2a: Ting-Lu|0 fnt\\n|faint|p2a: Ting-Lu\\n|\\n|upkeep\\n|\\n|t:|1704902368\\n|switch|p2a: Raging Bolt|Raging Bolt|100/100\\n|turn|8\\n|\\n|t:|1704902370\\n|-terastallize|p2a: Raging Bolt|Fairy\\n|move|p1a: Great Tusk|Earthquake|p2a: Raging Bolt\\n|-damage|p2a: Raging Bolt|63/100\\n|move|p2a: Raging Bolt|Draco Meteor|p1a: Great Tusk\\n|-damage|p1a: Great Tusk|0 fnt\\n|-unboost|p2a: Raging Bolt|spa|2\\n|faint|p1a: Great Tusk\\n|-end|p1a: Great Tusk|Protosynthesis|[silent]\\n|\\n|upkeep\\n|\\n|t:|1704902378\\n|switch|p1a: Breloom|Breloom, F|100/100\\n|turn|9\\n|\\n|t:|1704902382\\n|move|p1a: Breloom|Bullet Seed|p2a: Raging Bolt\\n|-damage|p2a: Raging Bolt|45/100\\n|-damage|p2a: Raging Bolt|27/100\\n|-damage|p2a: Raging Bolt|10/100\\n|-hitcount|p2a: Raging Bolt|3\\n|move|p2a: Raging Bolt|Draco Meteor|p1a: Breloom\\n|-enditem|p1a: Breloom|Focus Sash\\n|-damage|p1a: Breloom|1/100\\n|-unboost|p2a: Raging Bolt|spa|2\\n|\\n|upkeep\\n|turn|10\\n|\\n|t:|1704902389\\n|-end|p2a: Raging Bolt|Protosynthesis|[silent]\\n|switch|p2a: Dragonite|Dragonite, M|100/100\\n|move|p1a: Breloom|Mach Punch|p2a: Dragonite\\n|-resisted|p2a: Dragonite\\n|-damage|p2a: Dragonite|91/100\\n|\\n|upkeep\\n|turn|11\\n|\\n|t:|1704902392\\n|move|p2a: Dragonite|Extreme Speed|p1a: Breloom\\n|-damage|p1a: Breloom|0 fnt\\n|faint|p1a: Breloom\\n|\\n|upkeep\\n|j| randomatronic\\n|\\n|t:|1704902402\\n|switch|p1a: Dragonite|Dragonite, M|100/100\\n|turn|12\\n|\\n|t:|1704902405\\n|move|p2a: Dragonite|Extreme Speed|p1a: Dragonite\\n|-damage|p1a: Dragonite|82/100\\n|move|p1a: Dragonite|Dragon Dance|p1a: Dragonite\\n|-boost|p1a: Dragonite|atk|1\\n|-boost|p1a: Dragonite|spe|1\\n|\\n|upkeep\\n|turn|13\\n|\\n|t:|1704902408\\n|move|p1a: Dragonite|Outrage|p2a: Dragonite\\n|-supereffective|p2a: Dragonite\\n|-damage|p2a: Dragonite|0 fnt\\n|faint|p2a: Dragonite\\n|\\n|upkeep\\n|\\n|t:|1704902411\\n|switch|p2a: Raging Bolt|Raging Bolt, tera:Fairy|10/100\\n|turn|14\\n|\\n|t:|1704902414\\n|move|p1a: Dragonite|Outrage|p2a: Raging Bolt|[from]lockedmove\\n|-immune|p2a: Raging Bolt\\n|-start|p1a: Dragonite|confusion|[fatigue]\\n|-enditem|p1a: Dragonite|Lum Berry|[eat]\\n|-end|p1a: Dragonite|confusion\\n|move|p2a: Raging Bolt|Draco Meteor|p1a: Dragonite|[miss]\\n|-miss|p2a: Raging Bolt|p1a: Dragonite\\n|\\n|upkeep\\n|turn|15\\n|j| Jontrendline\\n|\\n|t:|1704902421\\n|move|p1a: Dragonite|Extreme Speed|p2a: Raging Bolt\\n|-damage|p2a: Raging Bolt|0 fnt\\n|faint|p2a: Raging Bolt\\n|-end|p2a: Raging Bolt|Protosynthesis|[silent]\\n|\\n|upkeep\\n|-message|BBUTTER forfeited.\\n|\\n|win|elpets\\n|raw|elpets's rating: 1967 &rarr; <strong>1991</strong><br />(+24 for winning)\\n|raw|BBUTTER's rating: 2032 &rarr; <strong>2008</strong><br />(-24 for losing)\\n|l|☆BBUTTER\\n|player|p2|\\n|l|☆elpets\\n|player|p1|\\n|l| randomatronic\\n\", 'uploadtime': 1704902462, 'views': 658, 'formatid': 'gen9ou', 'rating': 1991, 'private': 0, 'password': None}\n"
     ]
    }
   ],
   "source": [
    "import requests\n",
    "\n",
    "r = requests.get('https://replay.pokemonshowdown.com/gen9ou-2031706183.json')\n",
    "data = r.json()\n",
    "print(data)"
   ]
  },
  {
   "cell_type": "code",
   "execution_count": 2,
   "id": "de164177",
   "metadata": {},
   "outputs": [],
   "source": [
    "def parse_battle_log(log):\n",
    "    parsed_log = []\n",
    "    current_turn = {'actions': []}\n",
    "    for line in log:\n",
    "        parts = line.split('|')\n",
    "        if len(parts) > 1:\n",
    "            action_type = parts[1]\n",
    "\n",
    "            if action_type == 'turn':\n",
    "                if current_turn['actions']:  # Check if there are actions in the current turn\n",
    "                    parsed_log.append(current_turn)\n",
    "                current_turn = {'turn': int(parts[2]), 'actions': []}\n",
    "\n",
    "            elif action_type in ['move', 'switch', 'faint', '-damage', '-terastallize', '-resisted', '-end', '-enditem', 'win', '-boost']:\n",
    "                details = parts[2:]\n",
    "                current_turn['actions'].append({'type': action_type, 'details': details})\n",
    "\n",
    "    if current_turn['actions']:  # Add the last turn if it has actions\n",
    "        parsed_log.append(current_turn)\n",
    "\n",
    "    return parsed_log"
   ]
  },
  {
   "cell_type": "code",
   "execution_count": 3,
   "id": "14fb8004",
   "metadata": {},
   "outputs": [],
   "source": [
    "import pandas as pd \n",
    "log = data['log'].split('\\n')\n",
    "battle_data = parse_battle_log(log)"
   ]
  },
  {
   "cell_type": "code",
   "execution_count": 4,
   "id": "2f642b31",
   "metadata": {
    "scrolled": true
   },
   "outputs": [
    {
     "name": "stdout",
     "output_type": "stream",
     "text": [
      "Details of Turn 1:\n",
      "  - Type: move\n",
      "    Details: ['p2a: Gholdengo', 'Thunderbolt', 'p1a: Azumarill']\n",
      "  - Type: -damage\n",
      "    Details: ['p1a: Azumarill', '35/100']\n",
      "  - Type: move\n",
      "    Details: ['p1a: Azumarill', 'Liquidation', 'p2a: Gholdengo']\n",
      "  - Type: -damage\n",
      "    Details: ['p2a: Gholdengo', '34/100']\n"
     ]
    }
   ],
   "source": [
    "def print_turn_details(battle_data, turn_number):\n",
    "    # Find the turn in the battle data\n",
    "    for turn in battle_data:\n",
    "        if 'turn' in turn and turn['turn'] == turn_number:\n",
    "            print(f\"Details of Turn {turn_number}:\")\n",
    "            for action in turn['actions']:\n",
    "                print(f\"  - Type: {action['type']}\")\n",
    "                print(f\"    Details: {action['details']}\")\n",
    "            break\n",
    "    else:\n",
    "        print(f\"No details found for Turn {turn_number}\")\n",
    "\n",
    "print_turn_details(battle_data, 1)"
   ]
  },
  {
   "cell_type": "code",
   "execution_count": 5,
   "id": "72ae492f",
   "metadata": {},
   "outputs": [],
   "source": [
    "def parse_battle_log(log):\n",
    "    parsed_log = []\n",
    "    current_turn = {'turn': 0, 'actions': [], 'states': []}\n",
    "    for line in log:\n",
    "        parts = line.split('|')\n",
    "        if len(parts) > 1:\n",
    "            action_type = parts[1]\n",
    "\n",
    "            if action_type == 'turn':\n",
    "                if current_turn['actions'] or current_turn['states']:  # Check if there are actions or states\n",
    "                    parsed_log.append(current_turn)\n",
    "                current_turn = {'turn': int(parts[2]), 'actions': [], 'states': []}\n",
    "\n",
    "            elif action_type in ['move', 'switch', 'faint', '-damage', '-crit', '-terastallize', '-resisted', '-end', '-enditem', 'win', '-boost']:\n",
    "                details = parts[2:]\n",
    "                if action_type in ['-damage', '-crit', '-boost']:\n",
    "                    # This is a state change, not an action\n",
    "                    current_turn['states'].append({'type': action_type, 'details': details})\n",
    "                else:\n",
    "                    # This is an action\n",
    "                    current_turn['actions'].append({'type': action_type, 'details': details})\n",
    "\n",
    "    if current_turn['actions'] or current_turn['states']:  # Add the last turn if it has actions or states\n",
    "        parsed_log.append(current_turn)\n",
    "\n",
    "    return parsed_log"
   ]
  },
  {
   "cell_type": "code",
   "execution_count": 6,
   "id": "4cf30614",
   "metadata": {},
   "outputs": [
    {
     "name": "stdout",
     "output_type": "stream",
     "text": [
      "Details of Turn 1:\n",
      "  - Type: move\n",
      "    Details: ['p2a: Gholdengo', 'Thunderbolt', 'p1a: Azumarill']\n",
      "  - Type: move\n",
      "    Details: ['p1a: Azumarill', 'Liquidation', 'p2a: Gholdengo']\n"
     ]
    }
   ],
   "source": [
    "battle_data = parse_battle_log(log)\n",
    "print_turn_details(battle_data,1)"
   ]
  },
  {
   "cell_type": "code",
   "execution_count": null,
   "id": "94024cd9",
   "metadata": {},
   "outputs": [],
   "source": [
    "def initialize_state():\n",
    "    return {\n",
    "        'player_active_pokemon': None,\n",
    "        'opponent_active_pokemon': None,\n",
    "        'player_pokemon_health': {},\n",
    "        'opponent_pokemon_health': {}\n",
    "    }\n",
    "\n",
    "def update_state(state, action):\n",
    "    action_type = action['type']\n",
    "    details = action['details']\n",
    "\n",
    "    if action_type == 'switch':\n",
    "        # Update active Pokémon\n",
    "        player, pokemon_info = details[0].split(': ')\n",
    "        pokemon_name = pokemon_info.split(',')[0]\n",
    "        if player == 'p1a' or player == 'p1b':\n",
    "            state['player_active_pokemon'] = pokemon_name\n",
    "        else:\n",
    "            state['opponent_active_pokemon'] = pokemon_name\n",
    "    elif action_type == ''\n",
    "\n",
    "    elif action_type == '-damage':\n",
    "        # Update Pokémon health\n",
    "        player, _, health_info = details[0].split('|')\n",
    "        pokemon_name = state['player_active_pokemon'] if 'p1' in player else state['opponent_active_pokemon']\n",
    "        if pokemon_name:\n",
    "            if 'p1' in player:\n",
    "                state['player_pokemon_health'][pokemon_name] = health_info\n",
    "            else:\n",
    "                state['opponent_pokemon_health'][pokemon_name] = health_info\n",
    "\n",
    "    # ... handle other action types (e.g., status effects)\n",
    "\n",
    "    return state\n"
   ]
  }
 ],
 "metadata": {
  "kernelspec": {
   "display_name": "Python 3 (ipykernel)",
   "language": "python",
   "name": "python3"
  },
  "language_info": {
   "codemirror_mode": {
    "name": "ipython",
    "version": 3
   },
   "file_extension": ".py",
   "mimetype": "text/x-python",
   "name": "python",
   "nbconvert_exporter": "python",
   "pygments_lexer": "ipython3",
   "version": "3.11.5"
  }
 },
 "nbformat": 4,
 "nbformat_minor": 5
}
