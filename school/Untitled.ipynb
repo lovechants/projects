{
 "cells": [
  {
   "cell_type": "code",
   "execution_count": 1,
   "id": "52be2ee8",
   "metadata": {},
   "outputs": [],
   "source": [
    "import pandas as pd\n",
    "import numpy as np\n",
    "import requests\n",
    "from sklearn.neighbors import KNeighborsClassifier\n",
    "import tmdbsimple as tmdb\n",
    "# Get API data"
   ]
  },
  {
   "cell_type": "code",
   "execution_count": 2,
   "id": "398a9409",
   "metadata": {},
   "outputs": [],
   "source": [
    "k = \"56b7978a58b581985e796e2e89fe8ac0\"\n",
    "tmdb.API_KEY = k\n",
    "tmdb.REQUESTS_TIMEOUT = 5  # seconds, for both connect and read"
   ]
  },
  {
   "cell_type": "code",
   "execution_count": 3,
   "id": "1175d3b7",
   "metadata": {},
   "outputs": [],
   "source": [
    "def fetch_movie_genre_mappings():\n",
    "    genres = tmdb.Genres()\n",
    "    movie_genres = genres.movie_list()\n",
    "    return {genre[\"id\"]: genre[\"name\"] for genre in movie_genres[\"genres\"]}\n",
    "\n",
    "\n",
    "def fetch_tv_genre_mappings():\n",
    "    genres = tmdb.Genres()\n",
    "    tv_genres = genres.tv_list()\n",
    "    return {genre[\"id\"]: genre[\"name\"] for genre in tv_genres[\"genres\"]}\n"
   ]
  },
  {
   "cell_type": "code",
   "execution_count": 11,
   "id": "6133086e",
   "metadata": {},
   "outputs": [],
   "source": [
    "def get_tmdb_show_data(key):\n",
    "    genre_mappings = fetch_tv_genre_mappings()\n",
    "    #tmdb.API_KEY = key\n",
    "    #tmdb.REQUESTS_TIMEOUT = 5  # seconds, for both connect and read\n",
    "    shows = tmdb.TV()\n",
    "    popular_shows = shows.popular()\n",
    "    show_list = []\n",
    "    for show in popular_shows[\"results\"]:\n",
    "        genres = [\n",
    "            genre_mappings[genre_id]\n",
    "            for genre_id in show[\"genre_ids\"]\n",
    "            if genre_id in genre_mappings\n",
    "        ]\n",
    "        show_data = {\n",
    "            \"title\": show[\"name\"],\n",
    "            \"release_date\": show[\"first_air_date\"],\n",
    "            \"rating\": show[\"vote_average\"],\n",
    "            \"genre\": genres,\n",
    "        }\n",
    "        show_list.append(show_data)\n",
    "    return show_list\n",
    "\n",
    "\n",
    "def get_tmdb_movie_data(key):\n",
    "    genre_mappings = fetch_movie_genre_mappings()\n",
    "    #tmdb.API_KEY = key\n",
    "    #tmdb.REQUESTS_TIMEOUT = 5  # seconds, for both connect and read\n",
    "    movies = tmdb.Movies()\n",
    "    popular_movies = movies.popular()\n",
    "    movie_list = []\n",
    "    for movie in popular_movies[\"results\"]:\n",
    "        genres = [\n",
    "            genre_mappings[genre_id]\n",
    "            for genre_id in movie[\"genre_ids\"]\n",
    "            if genre_id in genre_mappings\n",
    "        ]\n",
    "        movie_data = {\n",
    "            \"title\": movie[\"title\"],\n",
    "            \"release_date\": movie[\"release_date\"],\n",
    "            \"rating\": movie[\"vote_average\"],\n",
    "            \"genre\": genres,\n",
    "        }\n",
    "        movie_list.append(movie_data)\n",
    "    return movie_list"
   ]
  },
  {
   "cell_type": "code",
   "execution_count": 13,
   "id": "d1411d2d",
   "metadata": {
    "scrolled": true
   },
   "outputs": [
    {
     "name": "stdout",
     "output_type": "stream",
     "text": [
      "[{'title': 'Watch What Happens Live with Andy Cohen', 'release_date': '2009-07-16', 'rating': 5.207, 'genre': ['Talk', 'Comedy']}, {'title': 'Gute Zeiten, schlechte Zeiten', 'release_date': '1992-05-11', 'rating': 6.154, 'genre': ['Drama', 'Soap']}, {'title': 'Binnelanders', 'release_date': '2005-10-13', 'rating': 6.063, 'genre': ['Soap']}, {'title': 'The Late Show with Stephen Colbert', 'release_date': '2015-09-08', 'rating': 6.494, 'genre': ['Comedy', 'Talk']}, {'title': 'Tomorrow Is Ours', 'release_date': '2017-07-17', 'rating': 6.125, 'genre': ['Crime', 'Drama']}, {'title': 'Prostřeno!', 'release_date': '2010-03-01', 'rating': 6.2, 'genre': ['Reality']}, {'title': 'The Jennifer Hudson Show', 'release_date': '2022-09-12', 'rating': 6.5, 'genre': ['Talk']}, {'title': 'Chronicles of the Sun', 'release_date': '2018-08-27', 'rating': 7.3, 'genre': ['Soap']}, {'title': 'Tagesschau', 'release_date': '1952-12-26', 'rating': 6.9, 'genre': ['News']}, {'title': 'The Kelly Clarkson Show', 'release_date': '2019-09-09', 'rating': 6.243, 'genre': ['Talk']}, {'title': 'Sturm der Liebe', 'release_date': '2005-09-26', 'rating': 7.033, 'genre': ['Drama', 'Soap']}, {'title': 'The Daily Show', 'release_date': '1996-07-22', 'rating': 6.3, 'genre': ['News', 'Comedy']}, {'title': 'Great Minds', 'release_date': '2021-08-30', 'rating': 5.333, 'genre': ['Talk', 'Documentary']}, {'title': 'Lang Leve de Liefde', 'release_date': '2020-01-20', 'rating': 2.667, 'genre': ['Reality']}, {'title': 'Na lovu', 'release_date': '2021-08-16', 'rating': 8.0, 'genre': ['Reality', 'Family']}, {'title': 'Unpredictable Family', 'release_date': '2023-09-18', 'rating': 6.667, 'genre': ['Family', 'Comedy']}, {'title': 'Ulice', 'release_date': '2005-09-05', 'rating': 3.333, 'genre': ['Drama', 'Comedy']}, {'title': 'Suidooster', 'release_date': '2015-11-16', 'rating': 8.0, 'genre': ['Soap']}, {'title': 'Barbara Karlich – Talk um 4', 'release_date': '1999-10-27', 'rating': 3.5, 'genre': ['Talk']}, {'title': 'Here it all begins', 'release_date': '2020-11-02', 'rating': 7.068, 'genre': ['Soap', 'Drama']}] \n",
      "\n",
      "[{'title': 'Kung Fu Panda 4', 'release_date': '2024-03-02', 'rating': 7.0, 'genre': ['Action', 'Adventure', 'Animation', 'Comedy', 'Family']}, {'title': 'Argylle', 'release_date': '2024-01-31', 'rating': 6.118, 'genre': ['Action', 'Adventure', 'Comedy']}, {'title': 'No Way Up', 'release_date': '2024-01-18', 'rating': 6.0, 'genre': ['Action', 'Horror', 'Thriller']}, {'title': 'Poor Things', 'release_date': '2023-12-07', 'rating': 7.905, 'genre': ['Science Fiction', 'Romance', 'Comedy']}, {'title': 'Megamind vs. the Doom Syndicate', 'release_date': '2024-03-01', 'rating': 5.534, 'genre': ['Animation', 'Comedy', 'Science Fiction']}, {'title': 'Code 8 Part II', 'release_date': '2024-02-27', 'rating': 6.653, 'genre': ['Science Fiction', 'Action', 'Crime']}, {'title': 'Oppenheimer', 'release_date': '2023-07-19', 'rating': 8.116, 'genre': ['Drama', 'History']}, {'title': 'Dune: Part Two', 'release_date': '2024-02-27', 'rating': 8.422, 'genre': ['Science Fiction', 'Adventure']}, {'title': 'Migration', 'release_date': '2023-12-06', 'rating': 7.55, 'genre': ['Animation', 'Action', 'Adventure', 'Comedy', 'Family']}, {'title': 'Land of Bad', 'release_date': '2024-01-25', 'rating': 6.9, 'genre': ['Action', 'Thriller', 'War']}, {'title': 'The Pig, the Snake and the Pigeon', 'release_date': '2023-10-06', 'rating': 7.689, 'genre': ['Action', 'Crime']}, {'title': 'Damsel', 'release_date': '2024-03-08', 'rating': 7.325, 'genre': ['Fantasy', 'Adventure', 'Action']}, {'title': 'Anyone But You', 'release_date': '2023-12-21', 'rating': 7.026, 'genre': ['Comedy', 'Romance']}, {'title': 'Meteor', 'release_date': '2021-09-01', 'rating': 5.444, 'genre': ['Science Fiction', 'Thriller']}, {'title': 'The Thundermans Return', 'release_date': '2024-03-07', 'rating': 7.576, 'genre': ['Family', 'Science Fiction', 'Action', 'Comedy']}, {'title': 'Jaque Mate', 'release_date': '2024-01-25', 'rating': 4.7, 'genre': ['Action', 'Comedy']}, {'title': 'Dune', 'release_date': '2021-09-15', 'rating': 7.786, 'genre': ['Science Fiction', 'Adventure']}, {'title': 'Wonka', 'release_date': '2023-12-06', 'rating': 7.193, 'genre': ['Comedy', 'Family', 'Fantasy']}, {'title': 'Ruthless', 'release_date': '2023-12-14', 'rating': 6.643, 'genre': ['Action', 'Thriller']}, {'title': 'The Beekeeper', 'release_date': '2024-01-08', 'rating': 7.462, 'genre': ['Action', 'Thriller', 'Drama']}]\n"
     ]
    }
   ],
   "source": [
    "\n",
    "shows = get_tmdb_show_data(k)\n",
    "movies = get_tmdb_movie_data(k)\n",
    "print(shows, '\\n')\n",
    "print(movies)"
   ]
  }
 ],
 "metadata": {
  "kernelspec": {
   "display_name": "Python 3 (ipykernel)",
   "language": "python",
   "name": "python3"
  },
  "language_info": {
   "codemirror_mode": {
    "name": "ipython",
    "version": 3
   },
   "file_extension": ".py",
   "mimetype": "text/x-python",
   "name": "python",
   "nbconvert_exporter": "python",
   "pygments_lexer": "ipython3",
   "version": "3.11.5"
  }
 },
 "nbformat": 4,
 "nbformat_minor": 5
}
