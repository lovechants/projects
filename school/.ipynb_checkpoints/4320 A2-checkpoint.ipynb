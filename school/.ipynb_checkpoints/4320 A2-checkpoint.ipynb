{
 "cells": [
  {
   "cell_type": "code",
   "execution_count": 1,
   "id": "f0add586",
   "metadata": {},
   "outputs": [
    {
     "data": {
      "text/html": [
       "<div>\n",
       "<style scoped>\n",
       "    .dataframe tbody tr th:only-of-type {\n",
       "        vertical-align: middle;\n",
       "    }\n",
       "\n",
       "    .dataframe tbody tr th {\n",
       "        vertical-align: top;\n",
       "    }\n",
       "\n",
       "    .dataframe thead th {\n",
       "        text-align: right;\n",
       "    }\n",
       "</style>\n",
       "<table border=\"1\" class=\"dataframe\">\n",
       "  <thead>\n",
       "    <tr style=\"text-align: right;\">\n",
       "      <th></th>\n",
       "      <th>brand</th>\n",
       "      <th>description</th>\n",
       "      <th>price_usd</th>\n",
       "      <th>type</th>\n",
       "    </tr>\n",
       "  </thead>\n",
       "  <tbody>\n",
       "    <tr>\n",
       "      <th>0</th>\n",
       "      <td>Rick Owens</td>\n",
       "      <td>Black Moncler Edition Down Coat</td>\n",
       "      <td>2585</td>\n",
       "      <td>mens</td>\n",
       "    </tr>\n",
       "    <tr>\n",
       "      <th>1</th>\n",
       "      <td>Rick Owens</td>\n",
       "      <td>Black Moncler Edition Cyclopic Down Coat</td>\n",
       "      <td>2405</td>\n",
       "      <td>mens</td>\n",
       "    </tr>\n",
       "    <tr>\n",
       "      <th>2</th>\n",
       "      <td>Rick Owens</td>\n",
       "      <td>Black Moncler Edition Cyclopic Down Jacket</td>\n",
       "      <td>3160</td>\n",
       "      <td>mens</td>\n",
       "    </tr>\n",
       "    <tr>\n",
       "      <th>3</th>\n",
       "      <td>Rick Owens</td>\n",
       "      <td>Taupe &amp; Green Moncler Edition Down Coat</td>\n",
       "      <td>3505</td>\n",
       "      <td>mens</td>\n",
       "    </tr>\n",
       "    <tr>\n",
       "      <th>4</th>\n",
       "      <td>Rick Owens</td>\n",
       "      <td>Taupe &amp; Green Moncler Edition Cyclopic Down Ja...</td>\n",
       "      <td>2885</td>\n",
       "      <td>mens</td>\n",
       "    </tr>\n",
       "  </tbody>\n",
       "</table>\n",
       "</div>"
      ],
      "text/plain": [
       "        brand                                        description  price_usd  \\\n",
       "0  Rick Owens                    Black Moncler Edition Down Coat       2585   \n",
       "1  Rick Owens           Black Moncler Edition Cyclopic Down Coat       2405   \n",
       "2  Rick Owens         Black Moncler Edition Cyclopic Down Jacket       3160   \n",
       "3  Rick Owens            Taupe & Green Moncler Edition Down Coat       3505   \n",
       "4  Rick Owens  Taupe & Green Moncler Edition Cyclopic Down Ja...       2885   \n",
       "\n",
       "   type  \n",
       "0  mens  \n",
       "1  mens  \n",
       "2  mens  \n",
       "3  mens  \n",
       "4  mens  "
      ]
     },
     "execution_count": 1,
     "metadata": {},
     "output_type": "execute_result"
    }
   ],
   "source": [
    "# Loading in the data \n",
    "import pandas as pd\n",
    "data = \"~/Documents/School/data/ssense_dataset.csv\"\n",
    "df = pd.read_csv(data)\n",
    "df.head()"
   ]
  },
  {
   "cell_type": "code",
   "execution_count": 2,
   "id": "4b69c9a2",
   "metadata": {},
   "outputs": [
    {
     "name": "stdout",
     "output_type": "stream",
     "text": [
      "<class 'pandas.core.frame.DataFrame'>\n",
      "RangeIndex: 19919 entries, 0 to 19918\n",
      "Data columns (total 4 columns):\n",
      " #   Column       Non-Null Count  Dtype \n",
      "---  ------       --------------  ----- \n",
      " 0   brand        19919 non-null  object\n",
      " 1   description  19919 non-null  object\n",
      " 2   price_usd    19919 non-null  int64 \n",
      " 3   type         19919 non-null  object\n",
      "dtypes: int64(1), object(3)\n",
      "memory usage: 622.6+ KB\n"
     ]
    }
   ],
   "source": [
    "df.info()"
   ]
  }
 ],
 "metadata": {
  "kernelspec": {
   "display_name": "Python 3 (ipykernel)",
   "language": "python",
   "name": "python3"
  },
  "language_info": {
   "codemirror_mode": {
    "name": "ipython",
    "version": 3
   },
   "file_extension": ".py",
   "mimetype": "text/x-python",
   "name": "python",
   "nbconvert_exporter": "python",
   "pygments_lexer": "ipython3",
   "version": "3.11.5"
  }
 },
 "nbformat": 4,
 "nbformat_minor": 5
}
